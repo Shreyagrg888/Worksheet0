{
  "cells": [
    {
      "cell_type": "markdown",
      "metadata": {
        "id": "view-in-github",
        "colab_type": "text"
      },
      "source": [
        "<a href=\"https://colab.research.google.com/github/Shreyagrg888/Worksheet0/blob/main/Task.ipynb\" target=\"_parent\"><img src=\"https://colab.research.google.com/assets/colab-badge.svg\" alt=\"Open In Colab\"/></a>"
      ]
    },
    {
      "cell_type": "code",
      "execution_count": null,
      "id": "c334fdf9-3c80-44eb-b5ae-ba9e8d35d240",
      "metadata": {
        "id": "c334fdf9-3c80-44eb-b5ae-ba9e8d35d240",
        "outputId": "306a59db-91da-4e69-fc98-d954a5bb18c7"
      },
      "outputs": [
        {
          "name": "stdout",
          "output_type": "stream",
          "text": [
            "Cold temperature:  [8.2, 7.9, 9.0, 8.5, 7.7, 8.4, 9.5, 8.1, 7.6, 8.0, 7.8, 8.7, 9.2, 8.3, 8.9, 7.8]\n",
            "Mild temperature:  [14.1, 13.5, 13.0, 12.9, 13.3, 14.0, 13.4, 14.2, 12.8, 13.7, 13.6, 13.8, 13.9, 12.7, 13.1, 12.5]\n",
            "Comfortable temperature:  [17.4, 18.0, 17.8, 16.5, 17.2, 16.7, 18.3, 17.9, 17.0, 16.8, 17.5, 17.1, 18.1, 16.4, 18.2, 16.6]\n"
          ]
        }
      ],
      "source": [
        "\n",
        "#Task 1\n",
        "\n",
        "\n",
        "temperature = [8.2, 17.4, 14.1, 7.9, 18.0, 13.5, 9.0, 17.8, 13.0, 8.5,\n",
        "16.5, 12.9, 7.7, 17.2, 13.3, 8.4, 16.7, 14.0, 9.5, 18.3, 13.4, 8.1,\n",
        "17.9, 14.2, 7.6, 17.0, 12.8, 8.0, 16.8, 13.7, 7.8, 17.5, 13.6, 8.7,\n",
        "17.1, 13.8, 9.2, 18.1, 13.9, 8.3, 16.4, 12.7, 8.9, 18.2, 13.1, 7.8,\n",
        "16.6, 12.5\n",
        "]\n",
        "\n",
        "#creating empty lists\n",
        "Cold = []\n",
        "Mild = []\n",
        "Comfortable = []\n",
        "\n",
        "for temps in temperature:\n",
        "    if temps < 10:\n",
        "        Cold.append(temps)\n",
        "    elif 10 <= temps < 15:\n",
        "        Mild.append(temps)\n",
        "    elif 15 <= temps < 20:\n",
        "        Comfortable.append(temps)\n",
        "\n",
        "print(\"Cold temperature: \", Cold)\n",
        "print(\"Mild temperature: \", Mild)\n",
        "print(\"Comfortable temperature: \", Comfortable)\n",
        "\n",
        "\n",
        "\n"
      ]
    },
    {
      "cell_type": "code",
      "execution_count": null,
      "id": "08d16450-0094-4584-a504-758a9f7e70eb",
      "metadata": {
        "id": "08d16450-0094-4584-a504-758a9f7e70eb",
        "outputId": "918e5cfc-494b-4968-fff6-0f79a91184e9"
      },
      "outputs": [
        {
          "name": "stdout",
          "output_type": "stream",
          "text": [
            "Number of Mild days:  16\n"
          ]
        }
      ],
      "source": [
        "#Task 2\n",
        "#How many days was it Mild?\n",
        "\n",
        "Mild:  [14.1, 13.5, 13.0, 12.9, 13.3, 14.0, 13.4, 14.2, 12.8, 13.7, 13.6, 13.8, 13.9, 12.7, 13.1, 12.5]\n",
        "Num = len(Mild)\n",
        "print(\"Number of Mild days: \", Num)"
      ]
    },
    {
      "cell_type": "code",
      "execution_count": null,
      "id": "5ee0102b-3638-4d70-b3d0-13c3288fcb7d",
      "metadata": {
        "id": "5ee0102b-3638-4d70-b3d0-13c3288fcb7d",
        "outputId": "857217d3-98b6-4e77-de51-5a3e1e74bdc7"
      },
      "outputs": [
        {
          "name": "stdout",
          "output_type": "stream",
          "text": [
            "Number of Mild days:  16\n"
          ]
        }
      ],
      "source": [
        "#How many days was it Comfortable?\n",
        "\n",
        "Comfortable = [17.4, 18.0, 17.8, 16.5, 17.2, 16.7, 18.3, 17.9, 17.0, 16.8, 17.5, 17.1, 18.1, 16.4, 18.2, 16.6]\n",
        "Num = len(Comfortable)\n",
        "print(\"Number of Mild days: \", Num)\n",
        "\n"
      ]
    },
    {
      "cell_type": "code",
      "execution_count": null,
      "id": "2bef1f27-2d96-4dd1-83c5-97b00fe3c8fe",
      "metadata": {
        "id": "2bef1f27-2d96-4dd1-83c5-97b00fe3c8fe",
        "outputId": "a9136dbf-56b4-4102-cc23-6cf3ec28392c"
      },
      "outputs": [
        {
          "name": "stdout",
          "output_type": "stream",
          "text": [
            "Number of Mild days:  16\n"
          ]
        }
      ],
      "source": [
        "#How many days was it Cold?\n",
        "\n",
        "Cold = [8.2, 7.9, 9.0, 8.5, 7.7, 8.4, 9.5, 8.1, 7.6, 8.0, 7.8, 8.7, 9.2, 8.3, 8.9, 7.8]\n",
        "Num = len(Cold)\n",
        "print(\"Number of Mild days: \", Num)"
      ]
    },
    {
      "cell_type": "code",
      "execution_count": null,
      "id": "ff827be8-3f54-496c-a687-cde84e97c856",
      "metadata": {
        "id": "ff827be8-3f54-496c-a687-cde84e97c856",
        "outputId": "b5dc5e6e-2303-4ed0-e280-fee444c10915"
      },
      "outputs": [
        {
          "name": "stdout",
          "output_type": "stream",
          "text": [
            "Temperatures in Fahrenheit:  [46.76, 63.32, 57.379999999999995, 46.22, 64.4, 56.3, 48.2, 64.04, 55.4, 47.3, 61.7, 55.22, 45.86, 62.959999999999994, 55.94, 47.120000000000005, 62.059999999999995, 57.2, 49.1, 64.94, 56.120000000000005, 46.58, 64.22, 57.56, 45.68, 62.6, 55.04, 46.4, 62.24, 56.66, 46.04, 63.5, 56.48, 47.66, 62.78, 56.84, 48.56, 64.58, 57.02, 46.94, 61.519999999999996, 54.86, 48.02, 64.75999999999999, 55.58, 46.04, 61.88, 54.5]\n"
          ]
        }
      ],
      "source": [
        "#Task3\n",
        "temperature = [\n",
        "    8.2, 17.4, 14.1, 7.9, 18.0, 13.5, 9.0, 17.8, 13.0, 8.5,\n",
        "16.5, 12.9, 7.7, 17.2, 13.3, 8.4, 16.7, 14.0, 9.5, 18.3, 13.4, 8.1,\n",
        "17.9, 14.2, 7.6, 17.0, 12.8, 8.0, 16.8, 13.7, 7.8, 17.5, 13.6, 8.7,\n",
        "17.1, 13.8, 9.2, 18.1, 13.9, 8.3, 16.4, 12.7, 8.9, 18.2, 13.1, 7.8,\n",
        "16.6, 12.5\n",
        "]\n",
        "\n",
        "temperatures_fahrenheit = []\n",
        "\n",
        "for temps in temperature:\n",
        "    fahrenheit = (temps * 9/5) +32\n",
        "    temperatures_fahrenheit.append(fahrenheit)\n",
        "print (\"Temperatures in Fahrenheit: \", temperatures_fahrenheit )\n"
      ]
    },
    {
      "cell_type": "code",
      "execution_count": null,
      "id": "f63a5c80-6ecc-42ac-92d2-6a4f5be3e23e",
      "metadata": {
        "id": "f63a5c80-6ecc-42ac-92d2-6a4f5be3e23e",
        "outputId": "eb8dd573-847b-4aae-a675-292c36b6836b"
      },
      "outputs": [
        {
          "name": "stdout",
          "output_type": "stream",
          "text": [
            "Night temperature:  [8.2, 7.9, 9.0, 8.5, 7.7, 8.4, 9.5, 8.1, 7.6, 8.0, 7.8, 8.7, 9.2, 8.3, 8.9, 7.8]\n",
            "Evening temperature:  [17.4, 18.0, 17.8, 16.5, 17.2, 16.7, 18.3, 17.9, 17.0, 16.8, 17.5, 17.1, 18.1, 16.4, 18.2, 16.6]\n",
            "day temperature:  [14.1, 13.5, 13.0, 12.9, 13.3, 14.0, 13.4, 14.2, 12.8, 13.7, 13.6, 13.8, 13.9, 12.7, 13.1, 12.5]\n",
            "Average temperature of the day is  13.40625\n"
          ]
        }
      ],
      "source": [
        "#Task 4\n",
        "temperature = [\n",
        "    8.2, 17.4, 14.1, 7.9, 18.0, 13.5, 9.0, 17.8, 13.0, 8.5,\n",
        "16.5, 12.9, 7.7, 17.2, 13.3, 8.4, 16.7, 14.0, 9.5, 18.3, 13.4, 8.1,\n",
        "17.9, 14.2, 7.6, 17.0, 12.8, 8.0, 16.8, 13.7, 7.8, 17.5, 13.6, 8.7,\n",
        "17.1, 13.8, 9.2, 18.1, 13.9, 8.3, 16.4, 12.7, 8.9, 18.2, 13.1, 7.8,\n",
        "16.6, 12.5\n",
        "]\n",
        "\n",
        "night = []\n",
        "evening = []\n",
        "day = []\n",
        "\n",
        "for i in range(0, len(temperature),3):\n",
        "    night.append(temperature[i])\n",
        "    evening.append(temperature[i+1])\n",
        "    day.append(temperature[i+2])\n",
        "\n",
        "print(\"Night temperature: \", night)\n",
        "print(\"Evening temperature: \", evening)\n",
        "print(\"day temperature: \", day)\n",
        "\n",
        "total_temp = 0\n",
        "for temp in day:\n",
        "    total_temp += temp\n",
        "\n",
        "average_temp = total_temp / len(day)\n",
        "\n",
        "print(\"Average temperature of the day is \", average_temp)\n",
        "\n",
        "\n",
        "\n"
      ]
    },
    {
      "cell_type": "code",
      "execution_count": null,
      "id": "44143357-81dc-4ce9-a3c5-f99820f27217",
      "metadata": {
        "id": "44143357-81dc-4ce9-a3c5-f99820f27217",
        "outputId": "16d5f6eb-fdad-4269-b92f-c06bf35babc0"
      },
      "outputs": [
        {
          "name": "stdout",
          "output_type": "stream",
          "text": [
            "The total sum:  36\n"
          ]
        }
      ],
      "source": [
        "def sum_nest_list(nested_list):\n",
        "    total = 0\n",
        "\n",
        "    # Iterate over each element in the list\n",
        "    for i in nested_list:\n",
        "        if isinstance(i, list):\n",
        "            # If the element is a list, recursively call sum_nest_list\n",
        "            total += sum_nest_list(i)\n",
        "        else:\n",
        "            # If the element is a number, add it to the total sum\n",
        "            total += i\n",
        "\n",
        "    return total\n",
        "\n",
        "# Test with the given nested list\n",
        "nested_list = [1, [2, [3, 4], 5], 6, [7, 8]]\n",
        "result = sum_nest_list(nested_list)\n",
        "print(\"The total sum: \", result)\n"
      ]
    },
    {
      "cell_type": "code",
      "execution_count": null,
      "id": "fc3064de-cfe1-4485-9fe6-698789fb0e5d",
      "metadata": {
        "id": "fc3064de-cfe1-4485-9fe6-698789fb0e5d",
        "outputId": "787bc41c-6971-472d-e6ae-7be004d0a8bb"
      },
      "outputs": [
        {
          "name": "stdout",
          "output_type": "stream",
          "text": [
            "['abc', 'acb', 'bac', 'bca', 'cba', 'cab']\n",
            "['aab', 'aba', 'baa']\n"
          ]
        }
      ],
      "source": [
        "#task2\n",
        "def generate_permutations(s):\n",
        "\n",
        "    def backtrack(s, start, result):\n",
        "        if start == len(s):\n",
        "            result.append(''.join(s))\n",
        "            return\n",
        "\n",
        "        seen = set()\n",
        "\n",
        "        for i in range(start, len(s)):\n",
        "            if s[i] in seen:\n",
        "                continue\n",
        "            seen.add(s[i])\n",
        "\n",
        "            s[start], s[i] = s[i], s[start]\n",
        "            backtrack(s, start + 1, result)\n",
        "            s[start], s[i] = s[i], s[start]  # Backtrack by swapping back\n",
        "\n",
        "    result = []\n",
        "    backtrack(list(s), 0, result)\n",
        "    return result\n",
        "\n",
        "print(generate_permutations(\"abc\"))\n",
        "\n",
        "print(generate_permutations(\"aab\"))\n"
      ]
    },
    {
      "cell_type": "code",
      "execution_count": null,
      "id": "beaa8827-7fe9-4368-bb2f-18faaaadda64",
      "metadata": {
        "id": "beaa8827-7fe9-4368-bb2f-18faaaadda64",
        "outputId": "48b2cd6e-07a7-471e-f9db-f0416672b4a7"
      },
      "outputs": [
        {
          "name": "stdout",
          "output_type": "stream",
          "text": [
            "Total size of the directory: 1400 KB\n"
          ]
        }
      ],
      "source": [
        "#Task3\n",
        "def calculate_directory_size(directory):\n",
        "    total_size = 0\n",
        "\n",
        "    for item, size in directory.items():\n",
        "        if isinstance(size, int):\n",
        "            total_size += size\n",
        "        elif isinstance(size, dict):\n",
        "            total_size += calculate_directory_size(size)\n",
        "\n",
        "    return total_size\n",
        "\n",
        "directory_structure = {\n",
        "    \"file1.txt\": 200,\n",
        "    \"file2.txt\": 300,\n",
        "    \"subdir1\": {\n",
        "        \"file3.txt\": 400,\n",
        "        \"file4.txt\": 100\n",
        "    },\n",
        "    \"subdir2\": {\n",
        "        \"subsubdir1\": {\n",
        "            \"file5.txt\": 250\n",
        "        },\n",
        "        \"file6.txt\": 150\n",
        "    }\n",
        "}\n",
        "\n",
        "# Test the function\n",
        "total_size = calculate_directory_size(directory_structure)\n",
        "print(f\"Total size of the directory: {total_size} KB\")\n"
      ]
    },
    {
      "cell_type": "code",
      "execution_count": null,
      "id": "d7baf91d-4a78-4b19-aae8-ca08bd5cbb0f",
      "metadata": {
        "id": "d7baf91d-4a78-4b19-aae8-ca08bd5cbb0f",
        "outputId": "c40a967a-747c-4240-ab40-dc34ee6bc129"
      },
      "outputs": [
        {
          "name": "stdout",
          "output_type": "stream",
          "text": [
            "3\n",
            "-1\n"
          ]
        }
      ],
      "source": [
        "#dynamic programming\n",
        "#task1\n",
        "def min_coins(coins, amount):\n",
        "\n",
        "    dp = [float('inf')] * (amount + 1)\n",
        "    dp[0] = 0\n",
        "\n",
        "    for coin in coins:\n",
        "        for i in range(coin, amount + 1):\n",
        "            dp[i] = min(dp[i], dp[i - coin] + 1)\n",
        "\n",
        "    return dp[amount] if dp[amount] != float('inf') else -1\n",
        "\n",
        "print(min_coins([1, 2, 5], 11))\n",
        "print(min_coins([2], 3))"
      ]
    },
    {
      "cell_type": "code",
      "execution_count": null,
      "id": "55aca5a4-af58-4bf2-b2ff-c9ccdf38ac49",
      "metadata": {
        "id": "55aca5a4-af58-4bf2-b2ff-c9ccdf38ac49",
        "outputId": "b218a9df-9547-4321-8f81-23b16c5dc5e3"
      },
      "outputs": [
        {
          "name": "stdout",
          "output_type": "stream",
          "text": [
            "3\n"
          ]
        }
      ],
      "source": [
        "#task2\n",
        "def longest_common_subsequence(s1, s2):\n",
        "    len_s1, len_s2 = len(s1), len(s2)\n",
        "\n",
        "    dp = [[0] * (len_s2 + 1) for _ in range(len_s1 + 1)]\n",
        "\n",
        "    for i in range(1, len_s1 + 1):\n",
        "        for j in range(1, len_s2 + 1):\n",
        "            if s1[i - 1] == s2[j - 1]:\n",
        "                dp[i][j] = dp[i - 1][j - 1] + 1\n",
        "            else:\n",
        "                dp[i][j] = max(dp[i - 1][j], dp[i][j - 1])\n",
        "\n",
        "    return dp[len_s1][len_s2]\n",
        "\n",
        "print(longest_common_subsequence(\"abcde\", \"ace\"))\n"
      ]
    },
    {
      "cell_type": "code",
      "execution_count": null,
      "id": "1b248e35-641e-46dc-815b-82e6cdfd3c06",
      "metadata": {
        "id": "1b248e35-641e-46dc-815b-82e6cdfd3c06",
        "outputId": "eb793e26-761c-4be7-962e-2f58f355f274"
      },
      "outputs": [
        {
          "name": "stdout",
          "output_type": "stream",
          "text": [
            "9\n"
          ]
        }
      ],
      "source": [
        "#task3\n",
        "def knapsack(weights, values, capacity):\n",
        "    n = len(weights)\n",
        "\n",
        "    dp = [[0] * (capacity + 1) for _ in range(n + 1)]\n",
        "\n",
        "=    for i in range(1, n + 1):  # Loop over each item\n",
        "        for w in range(1, capacity + 1):  # Loop over each weight capacity\n",
        "            if weights[i - 1] <= w:\n",
        "                dp[i][w] = max(dp[i - 1][w], values[i - 1] + dp[i - 1][w - weights[i - 1]])\n",
        "            else:\n",
        "                dp[i][w] = dp[i - 1][w]\n",
        "\n",
        "    return dp[n][capacity]\n",
        "\n",
        "weights = [1, 3, 4, 5]\n",
        "values = [1, 4, 5, 7]\n",
        "capacity = 7\n",
        "\n",
        "print(knapsack(weights, values, capacity))\n"
      ]
    },
    {
      "cell_type": "code",
      "execution_count": null,
      "id": "6b54fe42-1967-48e3-a020-5796c8682c48",
      "metadata": {
        "id": "6b54fe42-1967-48e3-a020-5796c8682c48"
      },
      "outputs": [],
      "source": []
    }
  ],
  "metadata": {
    "kernelspec": {
      "display_name": "Python 3 (ipykernel)",
      "language": "python",
      "name": "python3"
    },
    "language_info": {
      "codemirror_mode": {
        "name": "ipython",
        "version": 3
      },
      "file_extension": ".py",
      "mimetype": "text/x-python",
      "name": "python",
      "nbconvert_exporter": "python",
      "pygments_lexer": "ipython3",
      "version": "3.12.3"
    },
    "colab": {
      "provenance": [],
      "include_colab_link": true
    }
  },
  "nbformat": 4,
  "nbformat_minor": 5
}